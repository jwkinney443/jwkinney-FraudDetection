{
 "cells": [
  {
   "cell_type": "markdown",
   "metadata": {},
   "source": [
    "# Libraries + Loading Files"
   ]
  },
  {
   "cell_type": "code",
   "execution_count": 11,
   "metadata": {},
   "outputs": [],
   "source": [
    "import pandas as pd\n",
    "import numpy as np\n",
    "from sklearn.model_selection import train_test_split\n",
    "from sklearn.metrics import f1_score, classification_report\n",
    "from catboost import CatBoostClassifier\n",
    "\n",
    "train = pd.read_csv('data/train.csv')\n",
    "test = pd.read_csv('data/test.csv')\n",
    "sample_submission = pd.read_csv('data/sample_submission.csv')"
   ]
  },
  {
   "cell_type": "markdown",
   "metadata": {},
   "source": [
    "# Features"
   ]
  },
  {
   "cell_type": "code",
   "execution_count": 12,
   "metadata": {},
   "outputs": [],
   "source": [
    "\n",
    "# Date of Birth\n",
    "train['dob'] = pd.to_datetime(train['dob'], errors='coerce')\n",
    "test['dob'] = pd.to_datetime(test['dob'], errors='coerce')\n",
    "\n",
    "# Age \n",
    "train['age'] = 2024 - train['dob'].dt.year\n",
    "test['age'] = 2024 - test['dob'].dt.year\n",
    "\n",
    "# Name of Individuals\n",
    "train['name'] = train['first'] + ' ' + train['last']\n",
    "test['name'] = test['first'] + ' ' + test['last']\n",
    "\n",
    "# Time\n",
    "train['hours'] = pd.to_datetime(train['unix_time'], unit='s').dt.hour\n",
    "test['hours'] = pd.to_datetime(test['unix_time'], unit='s').dt.hour\n",
    "\n",
    "\n",
    "# Distance from merch\n",
    "train['distance'] = np.sqrt((train['lat'] - train['merch_lat'])**2 + (train['long'] - train['merch_long'])**2)\n",
    "test['distance'] = np.sqrt((test['lat'] - test['merch_lat'])**2 + (test['long'] - test['merch_long'])**2)\n",
    "\n",
    "\n",
    "# Checking if high amount\n",
    "high_value_threshold = train['amt'].quantile(0.9)\n",
    "train['is_high_value_transaction'] = (train['amt'] > high_value_threshold).astype(int)\n",
    "test['is_high_value_transaction'] = (test['amt'] > high_value_threshold).astype(int)\n",
    "\n",
    "# Checking if low amount - ('test' fraud amount)\n",
    "low_value_threshold = train['amt'].quantile(0.1) \n",
    "train['is_low_value_transaction'] = (train['amt'] < low_value_threshold).astype(int)\n",
    "test['is_low_value_transaction'] = (test['amt'] < low_value_threshold).astype(int)\n",
    "\n",
    "def extract_street_name(street):\n",
    "    # Remove any numeric values and keep only street name\n",
    "    street_name = ' '.join([word for word in street.split() if not word.isdigit()])\n",
    "    return street_name\n",
    "\n",
    "# Street name\n",
    "train['street_name'] = train['street'].apply(extract_street_name)\n",
    "test['street_name'] = test['street'].apply(extract_street_name)\n",
    "\n",
    "# Drop fields that are not needed (will tweak if needed)\n",
    "dropped = ['trans_num', 'trans_date', 'trans_time', 'first', 'last', \n",
    "                'street', 'long', 'lat', 'city_pop', 'merch_lat', 'merch_long']\n",
    "\n",
    "train.drop(columns=dropped, inplace=True)\n",
    "test.drop(columns=dropped, inplace=True)\n",
    "\n",
    "cat_col = ['merchant', 'name', 'category', 'gender', 'city', 'state', 'job', 'street_name'] "
   ]
  },
  {
   "cell_type": "markdown",
   "metadata": {},
   "source": [
    "# Split + Model"
   ]
  },
  {
   "cell_type": "code",
   "execution_count": 13,
   "metadata": {},
   "outputs": [
    {
     "name": "stdout",
     "output_type": "stream",
     "text": [
      "0:\tlearn: 0.1869285\ttest: 0.1879978\tbest: 0.1879978 (0)\ttotal: 109ms\tremaining: 9m 4s\n",
      "100:\tlearn: 0.0121386\ttest: 0.0135001\tbest: 0.0135001 (100)\ttotal: 10.2s\tremaining: 8m 17s\n",
      "200:\tlearn: 0.0095318\ttest: 0.0120014\tbest: 0.0119911 (198)\ttotal: 20.6s\tremaining: 8m 12s\n",
      "300:\tlearn: 0.0073993\ttest: 0.0109953\tbest: 0.0109642 (265)\ttotal: 31.7s\tremaining: 8m 14s\n",
      "400:\tlearn: 0.0061612\ttest: 0.0105509\tbest: 0.0105262 (389)\ttotal: 43.3s\tremaining: 8m 17s\n",
      "500:\tlearn: 0.0052351\ttest: 0.0104513\tbest: 0.0103381 (430)\ttotal: 55.8s\tremaining: 8m 21s\n",
      "600:\tlearn: 0.0048292\ttest: 0.0104398\tbest: 0.0103381 (430)\ttotal: 1m 8s\tremaining: 8m 20s\n",
      "700:\tlearn: 0.0043316\ttest: 0.0104426\tbest: 0.0103381 (430)\ttotal: 1m 21s\tremaining: 8m 17s\n",
      "800:\tlearn: 0.0039270\ttest: 0.0103668\tbest: 0.0103297 (709)\ttotal: 1m 32s\tremaining: 8m 6s\n",
      "900:\tlearn: 0.0037427\ttest: 0.0104371\tbest: 0.0103297 (709)\ttotal: 1m 43s\tremaining: 7m 48s\n",
      "1000:\tlearn: 0.0036259\ttest: 0.0105119\tbest: 0.0103297 (709)\ttotal: 1m 53s\tremaining: 7m 33s\n",
      "1100:\tlearn: 0.0036119\ttest: 0.0105315\tbest: 0.0103297 (709)\ttotal: 2m 3s\tremaining: 7m 15s\n",
      "1200:\tlearn: 0.0035000\ttest: 0.0105058\tbest: 0.0103297 (709)\ttotal: 2m 13s\tremaining: 7m 2s\n",
      "1300:\tlearn: 0.0032915\ttest: 0.0104696\tbest: 0.0103297 (709)\ttotal: 2m 24s\tremaining: 6m 50s\n",
      "1400:\tlearn: 0.0031648\ttest: 0.0105506\tbest: 0.0103297 (709)\ttotal: 2m 34s\tremaining: 6m 37s\n",
      "1500:\tlearn: 0.0030176\ttest: 0.0104563\tbest: 0.0103297 (709)\ttotal: 2m 45s\tremaining: 6m 25s\n",
      "1600:\tlearn: 0.0030010\ttest: 0.0104623\tbest: 0.0103297 (709)\ttotal: 2m 55s\tremaining: 6m 11s\n",
      "1700:\tlearn: 0.0029621\ttest: 0.0104727\tbest: 0.0103297 (709)\ttotal: 3m 3s\tremaining: 5m 56s\n",
      "1800:\tlearn: 0.0028770\ttest: 0.0105298\tbest: 0.0103297 (709)\ttotal: 3m 14s\tremaining: 5m 45s\n",
      "1900:\tlearn: 0.0028261\ttest: 0.0105554\tbest: 0.0103297 (709)\ttotal: 3m 25s\tremaining: 5m 35s\n",
      "2000:\tlearn: 0.0028066\ttest: 0.0105526\tbest: 0.0103297 (709)\ttotal: 3m 35s\tremaining: 5m 22s\n",
      "2100:\tlearn: 0.0028041\ttest: 0.0105581\tbest: 0.0103297 (709)\ttotal: 3m 44s\tremaining: 5m 10s\n",
      "2200:\tlearn: 0.0027760\ttest: 0.0105722\tbest: 0.0103297 (709)\ttotal: 3m 55s\tremaining: 4m 59s\n",
      "2300:\tlearn: 0.0027589\ttest: 0.0106082\tbest: 0.0103297 (709)\ttotal: 4m 4s\tremaining: 4m 47s\n",
      "2400:\tlearn: 0.0027471\ttest: 0.0106068\tbest: 0.0103297 (709)\ttotal: 4m 16s\tremaining: 4m 37s\n",
      "2500:\tlearn: 0.0026844\ttest: 0.0105673\tbest: 0.0103297 (709)\ttotal: 4m 27s\tremaining: 4m 27s\n",
      "2600:\tlearn: 0.0026558\ttest: 0.0106017\tbest: 0.0103297 (709)\ttotal: 4m 37s\tremaining: 4m 15s\n",
      "2700:\tlearn: 0.0026141\ttest: 0.0105752\tbest: 0.0103297 (709)\ttotal: 4m 47s\tremaining: 4m 4s\n",
      "2800:\tlearn: 0.0025068\ttest: 0.0105299\tbest: 0.0103297 (709)\ttotal: 4m 58s\tremaining: 3m 54s\n",
      "2900:\tlearn: 0.0024569\ttest: 0.0105284\tbest: 0.0103297 (709)\ttotal: 5m 8s\tremaining: 3m 43s\n",
      "3000:\tlearn: 0.0024555\ttest: 0.0105293\tbest: 0.0103297 (709)\ttotal: 5m 17s\tremaining: 3m 31s\n",
      "3100:\tlearn: 0.0024539\ttest: 0.0105299\tbest: 0.0103297 (709)\ttotal: 5m 27s\tremaining: 3m 20s\n",
      "3200:\tlearn: 0.0024379\ttest: 0.0105240\tbest: 0.0103297 (709)\ttotal: 5m 38s\tremaining: 3m 10s\n",
      "3300:\tlearn: 0.0024256\ttest: 0.0105353\tbest: 0.0103297 (709)\ttotal: 5m 48s\tremaining: 2m 59s\n",
      "3400:\tlearn: 0.0023911\ttest: 0.0105229\tbest: 0.0103297 (709)\ttotal: 5m 57s\tremaining: 2m 48s\n",
      "3500:\tlearn: 0.0023855\ttest: 0.0105278\tbest: 0.0103297 (709)\ttotal: 6m 8s\tremaining: 2m 37s\n",
      "3600:\tlearn: 0.0023751\ttest: 0.0105373\tbest: 0.0103297 (709)\ttotal: 6m 19s\tremaining: 2m 27s\n",
      "3700:\tlearn: 0.0023486\ttest: 0.0104747\tbest: 0.0103297 (709)\ttotal: 6m 29s\tremaining: 2m 16s\n",
      "3800:\tlearn: 0.0023006\ttest: 0.0105489\tbest: 0.0103297 (709)\ttotal: 6m 40s\tremaining: 2m 6s\n",
      "3900:\tlearn: 0.0022902\ttest: 0.0105418\tbest: 0.0103297 (709)\ttotal: 6m 49s\tremaining: 1m 55s\n",
      "4000:\tlearn: 0.0022826\ttest: 0.0105526\tbest: 0.0103297 (709)\ttotal: 7m\tremaining: 1m 44s\n",
      "4100:\tlearn: 0.0022674\ttest: 0.0105606\tbest: 0.0103297 (709)\ttotal: 7m 9s\tremaining: 1m 34s\n",
      "4200:\tlearn: 0.0022500\ttest: 0.0105815\tbest: 0.0103297 (709)\ttotal: 7m 19s\tremaining: 1m 23s\n",
      "4300:\tlearn: 0.0022322\ttest: 0.0106084\tbest: 0.0103297 (709)\ttotal: 7m 29s\tremaining: 1m 13s\n",
      "4400:\tlearn: 0.0022065\ttest: 0.0106124\tbest: 0.0103297 (709)\ttotal: 7m 39s\tremaining: 1m 2s\n",
      "4500:\tlearn: 0.0022043\ttest: 0.0106152\tbest: 0.0103297 (709)\ttotal: 7m 49s\tremaining: 52.1s\n",
      "4600:\tlearn: 0.0022028\ttest: 0.0106196\tbest: 0.0103297 (709)\ttotal: 8m\tremaining: 41.6s\n",
      "4700:\tlearn: 0.0021647\ttest: 0.0106242\tbest: 0.0103297 (709)\ttotal: 8m 9s\tremaining: 31.1s\n",
      "4800:\tlearn: 0.0021458\ttest: 0.0106542\tbest: 0.0103297 (709)\ttotal: 8m 19s\tremaining: 20.7s\n",
      "4900:\tlearn: 0.0021039\ttest: 0.0106050\tbest: 0.0103297 (709)\ttotal: 8m 29s\tremaining: 10.3s\n",
      "4999:\tlearn: 0.0020909\ttest: 0.0105998\tbest: 0.0103297 (709)\ttotal: 8m 38s\tremaining: 0us\n",
      "\n",
      "bestTest = 0.01032966221\n",
      "bestIteration = 709\n",
      "\n",
      "Shrink model to first 710 iterations.\n"
     ]
    },
    {
     "data": {
      "text/plain": [
       "<catboost.core.CatBoostClassifier at 0x10f0d0390>"
      ]
     },
     "execution_count": 13,
     "metadata": {},
     "output_type": "execute_result"
    }
   ],
   "source": [
    "\n",
    "# Split data into features and target\n",
    "X = train.drop(columns=['is_fraud'])\n",
    "y = train['is_fraud']\n",
    "X_test = test\n",
    "X_train, X_val, y_train, y_val = train_test_split(X, y, test_size=0.2, random_state=42)\n",
    "\n",
    "\n",
    "# Train model now \n",
    "model = CatBoostClassifier(iterations=50000, depth=6, learning_rate=0.1, loss_function='Logloss', verbose=100)\n",
    "\n",
    "idxs = [X.columns.get_loc(col) for col in cat_col]\n",
    "\n",
    "model.fit(X_train, y_train, eval_set=(X_val, y_val), use_best_model=True, cat_features=idxs)"
   ]
  },
  {
   "cell_type": "markdown",
   "metadata": {},
   "source": [
    "# Score + Report "
   ]
  },
  {
   "cell_type": "code",
   "execution_count": 14,
   "metadata": {},
   "outputs": [
    {
     "name": "stdout",
     "output_type": "stream",
     "text": [
      "F1 Score: 0.9852604380762229\n",
      "Classification Report:\n",
      "              precision    recall  f1-score   support\n",
      "\n",
      "           0       1.00      1.00      1.00     65592\n",
      "           1       0.99      0.98      0.99      8549\n",
      "\n",
      "    accuracy                           1.00     74141\n",
      "   macro avg       0.99      0.99      0.99     74141\n",
      "weighted avg       1.00      1.00      1.00     74141\n",
      "\n"
     ]
    }
   ],
   "source": [
    "y_predict = model.predict(X_val)\n",
    "\n",
    "f1 = f1_score(y_val, y_predict)\n",
    "print(f'F1 Score: {f1}')\n",
    "\n",
    "print(\"Classification Report:\")\n",
    "print(classification_report(y_val, y_predict))"
   ]
  },
  {
   "cell_type": "markdown",
   "metadata": {},
   "source": [
    "# Submission Generation"
   ]
  },
  {
   "cell_type": "code",
   "execution_count": 15,
   "metadata": {},
   "outputs": [
    {
     "name": "stdout",
     "output_type": "stream",
     "text": [
      "Submission file saved as submission.csv\n"
     ]
    }
   ],
   "source": [
    "y_test_pred = model.predict(X_test)\n",
    "\n",
    "submission = pd.DataFrame({\n",
    "    'id': sample_submission['id'],\n",
    "    'is_fraud': y_test_pred\n",
    "})\n",
    "\n",
    "# Save the submission file\n",
    "submission.to_csv('submission.csv', index=False)\n",
    "print(\"Submission file saved as submission.csv\")\n"
   ]
  }
 ],
 "metadata": {
  "kernelspec": {
   "display_name": "Python 3",
   "language": "python",
   "name": "python3"
  },
  "language_info": {
   "codemirror_mode": {
    "name": "ipython",
    "version": 3
   },
   "file_extension": ".py",
   "mimetype": "text/x-python",
   "name": "python",
   "nbconvert_exporter": "python",
   "pygments_lexer": "ipython3",
   "version": "3.11.5"
  }
 },
 "nbformat": 4,
 "nbformat_minor": 2
}
